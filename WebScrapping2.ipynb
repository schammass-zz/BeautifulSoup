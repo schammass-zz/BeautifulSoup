{
  "nbformat": 4,
  "nbformat_minor": 0,
  "metadata": {
    "colab": {
      "name": "WebScrapping2.ipynb",
      "provenance": [],
      "authorship_tag": "ABX9TyO/yAf/GD+X92EvwK8dGtNh",
      "include_colab_link": true
    },
    "kernelspec": {
      "name": "python3",
      "display_name": "Python 3"
    },
    "language_info": {
      "name": "python"
    }
  },
  "cells": [
    {
      "cell_type": "markdown",
      "metadata": {
        "id": "view-in-github",
        "colab_type": "text"
      },
      "source": [
        "<a href=\"https://colab.research.google.com/github/schammass/BeautifulSoup/blob/main/WebScrapping2.ipynb\" target=\"_parent\"><img src=\"https://colab.research.google.com/assets/colab-badge.svg\" alt=\"Open In Colab\"/></a>"
      ]
    },
    {
      "cell_type": "markdown",
      "source": [
        ""
      ],
      "metadata": {
        "id": "bkqWEC3o5Omo"
      }
    },
    {
      "cell_type": "markdown",
      "source": [
        "# **Importing libraries**"
      ],
      "metadata": {
        "id": "i85XmmQ55Qj3"
      }
    },
    {
      "cell_type": "code",
      "source": [
        "import requests\n",
        "from bs4 import BeautifulSoup\n",
        "import pandas as pd"
      ],
      "metadata": {
        "id": "cS1jwY245EEl"
      },
      "execution_count": 2,
      "outputs": []
    },
    {
      "cell_type": "markdown",
      "source": [
        "# **Resquest + Selector**"
      ],
      "metadata": {
        "id": "9gaQucuY5iK4"
      }
    },
    {
      "cell_type": "code",
      "source": [
        "# Creating a web scraping function:\n",
        "\n",
        "def scrap_state_info(state: str) -> dict:\n",
        "    \"\"\"\n",
        "    Return information from Brazilian state\n",
        "\n",
        "    :param state: State name\n",
        "    :returns state_dict: dictionary with status indicators\n",
        "    \"\"\"\n",
        "    print(f'⛷️ Picking {state} info...')\n",
        "    state_url = f'https://www.ibge.gov.br/cidades-e-estados/{state}.html'\n",
        "    page = requests.get(state_url)\n",
        "\n",
        "    soup = BeautifulSoup(page.content, 'html.parser')\n",
        "    indicators = soup.select('.indicador')\n",
        "\n",
        "    state_dict = {\n",
        "        ind.select('.ind-label')[0].text: ind.select('.ind-value')[0].text\n",
        "        for ind in indicators\n",
        "    }\n",
        "\n",
        "    state_dict['Estado'] = state\n",
        "\n",
        "    return state_dict\n",
        "\n",
        "scrap_state_info('sp')"
      ],
      "metadata": {
        "colab": {
          "base_uri": "https://localhost:8080/"
        },
        "id": "7Ilj572m5l7d",
        "outputId": "cc792088-a38e-4f6e-dbde-a1fc5a17c278"
      },
      "execution_count": 3,
      "outputs": [
        {
          "output_type": "stream",
          "name": "stdout",
          "text": [
            "⛷️ Picking sp info...\n"
          ]
        },
        {
          "output_type": "execute_result",
          "data": {
            "text/plain": [
              "{'Capital': 'São Paulo\\xa0\\xa0\\xa0[2010]',\n",
              " 'Densidade demográfica': '166,25 hab/km²\\xa0\\xa0\\xa0[2010]',\n",
              " 'Despesas empenhadas': '231.982.243,69 R$ (×1000)\\xa0\\xa0\\xa0[2017]',\n",
              " 'Estado': 'sp',\n",
              " 'Gentílico': 'paulista',\n",
              " 'Governador': 'JOÃO AGRIPINO DA COSTA DORIA JUNIOR\\xa0\\xa0\\xa0[2019]',\n",
              " 'IDH Índice de desenvolvimento humano': '0,783\\xa0\\xa0\\xa0[2010]',\n",
              " 'Matrículas no ensino fundamental': '5.414.208 matrículas\\xa0\\xa0\\xa0[2020]',\n",
              " 'População estimada': '46.649.132 pessoas\\xa0\\xa0\\xa0[2021]',\n",
              " 'Receitas realizadas': '232.822.496,57 R$ (×1000)\\xa0\\xa0\\xa0[2017]',\n",
              " 'Rendimento mensal domiciliar per capita': '1.814 R$\\xa0\\xa0\\xa0[2020]',\n",
              " 'Total de veículos': '30.778.960 veículos\\xa0\\xa0\\xa0[2020]',\n",
              " 'Área Territorial': '248.219,481 km²\\xa0\\xa0\\xa0[2020]'}"
            ]
          },
          "metadata": {},
          "execution_count": 3
        }
      ]
    },
    {
      "cell_type": "code",
      "source": [
        "states = ['AC', 'AL', 'AP', 'AM', 'BA', 'CE', 'DF', 'ES', 'GO', 'MA', 'MT', 'MS', 'MG', 'PA', 'PB', 'PR', 'PE', 'PI', 'RJ', 'RN', 'RS', 'RO', 'RR', 'SC', 'SP', 'SE', 'TO']\n",
        "\n",
        "states_data = [scrap_state_info(state) for state in states]"
      ],
      "metadata": {
        "colab": {
          "base_uri": "https://localhost:8080/"
        },
        "id": "WYMJL0c36iFd",
        "outputId": "6181d492-a9a0-4432-e9d7-2a5c5c7c774a"
      },
      "execution_count": 4,
      "outputs": [
        {
          "output_type": "stream",
          "name": "stdout",
          "text": [
            "⛷️ Picking AC info...\n",
            "⛷️ Picking AL info...\n",
            "⛷️ Picking AP info...\n",
            "⛷️ Picking AM info...\n",
            "⛷️ Picking BA info...\n",
            "⛷️ Picking CE info...\n",
            "⛷️ Picking DF info...\n",
            "⛷️ Picking ES info...\n",
            "⛷️ Picking GO info...\n",
            "⛷️ Picking MA info...\n",
            "⛷️ Picking MT info...\n",
            "⛷️ Picking MS info...\n",
            "⛷️ Picking MG info...\n",
            "⛷️ Picking PA info...\n",
            "⛷️ Picking PB info...\n",
            "⛷️ Picking PR info...\n",
            "⛷️ Picking PE info...\n",
            "⛷️ Picking PI info...\n",
            "⛷️ Picking RJ info...\n",
            "⛷️ Picking RN info...\n",
            "⛷️ Picking RS info...\n",
            "⛷️ Picking RO info...\n",
            "⛷️ Picking RR info...\n",
            "⛷️ Picking SC info...\n",
            "⛷️ Picking SP info...\n",
            "⛷️ Picking SE info...\n",
            "⛷️ Picking TO info...\n"
          ]
        }
      ]
    },
    {
      "cell_type": "code",
      "source": [
        "# Transforming variable states_date to a data frame using Pandas and visualizing it.\n",
        "df = pd.DataFrame(states_data)\n",
        "df.head()"
      ],
      "metadata": {
        "colab": {
          "base_uri": "https://localhost:8080/",
          "height": 513
        },
        "id": "_77K-JYB6m81",
        "outputId": "b03647d5-3a04-4593-933f-363f798e1eee"
      },
      "execution_count": 5,
      "outputs": [
        {
          "output_type": "execute_result",
          "data": {
            "text/html": [
              "\n",
              "  <div id=\"df-b598d346-e415-4134-a7f8-bfcdedb21572\">\n",
              "    <div class=\"colab-df-container\">\n",
              "      <div>\n",
              "<style scoped>\n",
              "    .dataframe tbody tr th:only-of-type {\n",
              "        vertical-align: middle;\n",
              "    }\n",
              "\n",
              "    .dataframe tbody tr th {\n",
              "        vertical-align: top;\n",
              "    }\n",
              "\n",
              "    .dataframe thead th {\n",
              "        text-align: right;\n",
              "    }\n",
              "</style>\n",
              "<table border=\"1\" class=\"dataframe\">\n",
              "  <thead>\n",
              "    <tr style=\"text-align: right;\">\n",
              "      <th></th>\n",
              "      <th>Governador</th>\n",
              "      <th>Capital</th>\n",
              "      <th>Gentílico</th>\n",
              "      <th>Área Territorial</th>\n",
              "      <th>População estimada</th>\n",
              "      <th>Densidade demográfica</th>\n",
              "      <th>Matrículas no ensino fundamental</th>\n",
              "      <th>IDH Índice de desenvolvimento humano</th>\n",
              "      <th>Receitas realizadas</th>\n",
              "      <th>Despesas empenhadas</th>\n",
              "      <th>Rendimento mensal domiciliar per capita</th>\n",
              "      <th>Total de veículos</th>\n",
              "      <th>Estado</th>\n",
              "    </tr>\n",
              "  </thead>\n",
              "  <tbody>\n",
              "    <tr>\n",
              "      <th>0</th>\n",
              "      <td>GLADSON DE LIMA CAMELI   [2019]</td>\n",
              "      <td>Rio Branco   [2010]</td>\n",
              "      <td>acriano</td>\n",
              "      <td>164.173,431 km²   [2020]</td>\n",
              "      <td>906.876 pessoas   [2021]</td>\n",
              "      <td>4,47 hab/km²   [2010]</td>\n",
              "      <td>156.679 matrículas   [2020]</td>\n",
              "      <td>0,663   [2010]</td>\n",
              "      <td>6.632.883,11 R$ (×1000)   [2017]</td>\n",
              "      <td>6.084.416,81 R$ (×1000)   [2017]</td>\n",
              "      <td>917 R$   [2020]</td>\n",
              "      <td>306.258 veículos   [2020]</td>\n",
              "      <td>AC</td>\n",
              "    </tr>\n",
              "    <tr>\n",
              "      <th>1</th>\n",
              "      <td>JOSE RENAN VASCONCELOS CALHEIROS FILHO   [2019]</td>\n",
              "      <td>Maceió   [2010]</td>\n",
              "      <td>alagoano</td>\n",
              "      <td>27.830,656 km²   [2020]</td>\n",
              "      <td>3.365.351 pessoas   [2021]</td>\n",
              "      <td>112,33 hab/km²   [2010]</td>\n",
              "      <td>464.704 matrículas   [2020]</td>\n",
              "      <td>0,631   [2010]</td>\n",
              "      <td>11.950.438,46 R$ (×1000)   [2017]</td>\n",
              "      <td>10.460.634,92 R$ (×1000)   [2017]</td>\n",
              "      <td>796 R$   [2020]</td>\n",
              "      <td>930.933 veículos   [2020]</td>\n",
              "      <td>AL</td>\n",
              "    </tr>\n",
              "    <tr>\n",
              "      <th>2</th>\n",
              "      <td>ANTONIO WALDEZ GÓES DA SILVA   [2019]</td>\n",
              "      <td>Macapá   [2010]</td>\n",
              "      <td>amapaense</td>\n",
              "      <td>142.470,762 km²   [2020]</td>\n",
              "      <td>877.613 pessoas   [2021]</td>\n",
              "      <td>4,69 hab/km²   [2010]</td>\n",
              "      <td>134.820 matrículas   [2020]</td>\n",
              "      <td>0,708   [2010]</td>\n",
              "      <td>5.396.417,14 R$ (×1000)   [2017]</td>\n",
              "      <td>4.224.464,09 R$ (×1000)   [2017]</td>\n",
              "      <td>893 R$   [2020]</td>\n",
              "      <td>215.330 veículos   [2020]</td>\n",
              "      <td>AP</td>\n",
              "    </tr>\n",
              "    <tr>\n",
              "      <th>3</th>\n",
              "      <td>WILSON MIRANDA LIMA   [2019]</td>\n",
              "      <td>Manaus   [2010]</td>\n",
              "      <td>amazonense</td>\n",
              "      <td>1.559.167,878 km²   [2020]</td>\n",
              "      <td>4.269.995 pessoas   [2021]</td>\n",
              "      <td>2,23 hab/km²   [2010]</td>\n",
              "      <td>700.104 matrículas   [2020]</td>\n",
              "      <td>0,674   [2010]</td>\n",
              "      <td>17.328.459,43 R$ (×1000)   [2017]</td>\n",
              "      <td>15.324.896,56 R$ (×1000)   [2017]</td>\n",
              "      <td>852 R$   [2020]</td>\n",
              "      <td>969.722 veículos   [2020]</td>\n",
              "      <td>AM</td>\n",
              "    </tr>\n",
              "    <tr>\n",
              "      <th>4</th>\n",
              "      <td>RUI COSTA DOS SANTOS   [2019]</td>\n",
              "      <td>Salvador   [2010]</td>\n",
              "      <td>baiano</td>\n",
              "      <td>564.760,427 km²   [2020]</td>\n",
              "      <td>14.985.284 pessoas   [2021]</td>\n",
              "      <td>24,82 hab/km²   [2010]</td>\n",
              "      <td>1.947.177 matrículas   [2020]</td>\n",
              "      <td>0,660   [2010]</td>\n",
              "      <td>50.191.003,24 R$ (×1000)   [2017]</td>\n",
              "      <td>45.570.160,00 R$ (×1000)   [2017]</td>\n",
              "      <td>965 R$   [2020]</td>\n",
              "      <td>4.506.825 veículos   [2020]</td>\n",
              "      <td>BA</td>\n",
              "    </tr>\n",
              "  </tbody>\n",
              "</table>\n",
              "</div>\n",
              "      <button class=\"colab-df-convert\" onclick=\"convertToInteractive('df-b598d346-e415-4134-a7f8-bfcdedb21572')\"\n",
              "              title=\"Convert this dataframe to an interactive table.\"\n",
              "              style=\"display:none;\">\n",
              "        \n",
              "  <svg xmlns=\"http://www.w3.org/2000/svg\" height=\"24px\"viewBox=\"0 0 24 24\"\n",
              "       width=\"24px\">\n",
              "    <path d=\"M0 0h24v24H0V0z\" fill=\"none\"/>\n",
              "    <path d=\"M18.56 5.44l.94 2.06.94-2.06 2.06-.94-2.06-.94-.94-2.06-.94 2.06-2.06.94zm-11 1L8.5 8.5l.94-2.06 2.06-.94-2.06-.94L8.5 2.5l-.94 2.06-2.06.94zm10 10l.94 2.06.94-2.06 2.06-.94-2.06-.94-.94-2.06-.94 2.06-2.06.94z\"/><path d=\"M17.41 7.96l-1.37-1.37c-.4-.4-.92-.59-1.43-.59-.52 0-1.04.2-1.43.59L10.3 9.45l-7.72 7.72c-.78.78-.78 2.05 0 2.83L4 21.41c.39.39.9.59 1.41.59.51 0 1.02-.2 1.41-.59l7.78-7.78 2.81-2.81c.8-.78.8-2.07 0-2.86zM5.41 20L4 18.59l7.72-7.72 1.47 1.35L5.41 20z\"/>\n",
              "  </svg>\n",
              "      </button>\n",
              "      \n",
              "  <style>\n",
              "    .colab-df-container {\n",
              "      display:flex;\n",
              "      flex-wrap:wrap;\n",
              "      gap: 12px;\n",
              "    }\n",
              "\n",
              "    .colab-df-convert {\n",
              "      background-color: #E8F0FE;\n",
              "      border: none;\n",
              "      border-radius: 50%;\n",
              "      cursor: pointer;\n",
              "      display: none;\n",
              "      fill: #1967D2;\n",
              "      height: 32px;\n",
              "      padding: 0 0 0 0;\n",
              "      width: 32px;\n",
              "    }\n",
              "\n",
              "    .colab-df-convert:hover {\n",
              "      background-color: #E2EBFA;\n",
              "      box-shadow: 0px 1px 2px rgba(60, 64, 67, 0.3), 0px 1px 3px 1px rgba(60, 64, 67, 0.15);\n",
              "      fill: #174EA6;\n",
              "    }\n",
              "\n",
              "    [theme=dark] .colab-df-convert {\n",
              "      background-color: #3B4455;\n",
              "      fill: #D2E3FC;\n",
              "    }\n",
              "\n",
              "    [theme=dark] .colab-df-convert:hover {\n",
              "      background-color: #434B5C;\n",
              "      box-shadow: 0px 1px 3px 1px rgba(0, 0, 0, 0.15);\n",
              "      filter: drop-shadow(0px 1px 2px rgba(0, 0, 0, 0.3));\n",
              "      fill: #FFFFFF;\n",
              "    }\n",
              "  </style>\n",
              "\n",
              "      <script>\n",
              "        const buttonEl =\n",
              "          document.querySelector('#df-b598d346-e415-4134-a7f8-bfcdedb21572 button.colab-df-convert');\n",
              "        buttonEl.style.display =\n",
              "          google.colab.kernel.accessAllowed ? 'block' : 'none';\n",
              "\n",
              "        async function convertToInteractive(key) {\n",
              "          const element = document.querySelector('#df-b598d346-e415-4134-a7f8-bfcdedb21572');\n",
              "          const dataTable =\n",
              "            await google.colab.kernel.invokeFunction('convertToInteractive',\n",
              "                                                     [key], {});\n",
              "          if (!dataTable) return;\n",
              "\n",
              "          const docLinkHtml = 'Like what you see? Visit the ' +\n",
              "            '<a target=\"_blank\" href=https://colab.research.google.com/notebooks/data_table.ipynb>data table notebook</a>'\n",
              "            + ' to learn more about interactive tables.';\n",
              "          element.innerHTML = '';\n",
              "          dataTable['output_type'] = 'display_data';\n",
              "          await google.colab.output.renderOutput(dataTable, element);\n",
              "          const docLink = document.createElement('div');\n",
              "          docLink.innerHTML = docLinkHtml;\n",
              "          element.appendChild(docLink);\n",
              "        }\n",
              "      </script>\n",
              "    </div>\n",
              "  </div>\n",
              "  "
            ],
            "text/plain": [
              "                                        Governador  ... Estado\n",
              "0                  GLADSON DE LIMA CAMELI   [2019]  ...     AC\n",
              "1  JOSE RENAN VASCONCELOS CALHEIROS FILHO   [2019]  ...     AL\n",
              "2            ANTONIO WALDEZ GÓES DA SILVA   [2019]  ...     AP\n",
              "3                     WILSON MIRANDA LIMA   [2019]  ...     AM\n",
              "4                    RUI COSTA DOS SANTOS   [2019]  ...     BA\n",
              "\n",
              "[5 rows x 13 columns]"
            ]
          },
          "metadata": {},
          "execution_count": 5
        }
      ]
    },
    {
      "cell_type": "code",
      "source": [
        "#Checking the data type of each column.\n",
        "df.info()"
      ],
      "metadata": {
        "colab": {
          "base_uri": "https://localhost:8080/"
        },
        "id": "4HboPbZa64Td",
        "outputId": "d239ab97-6208-4302-b012-be6713d3c044"
      },
      "execution_count": 6,
      "outputs": [
        {
          "output_type": "stream",
          "name": "stdout",
          "text": [
            "<class 'pandas.core.frame.DataFrame'>\n",
            "RangeIndex: 27 entries, 0 to 26\n",
            "Data columns (total 13 columns):\n",
            " #   Column                                   Non-Null Count  Dtype \n",
            "---  ------                                   --------------  ----- \n",
            " 0   Governador                               27 non-null     object\n",
            " 1   Capital                                  27 non-null     object\n",
            " 2   Gentílico                                27 non-null     object\n",
            " 3   Área Territorial                         27 non-null     object\n",
            " 4   População estimada                       27 non-null     object\n",
            " 5   Densidade demográfica                    27 non-null     object\n",
            " 6   Matrículas no ensino fundamental        27 non-null     object\n",
            " 7   IDH Índice de desenvolvimento humano    27 non-null     object\n",
            " 8   Receitas realizadas                      27 non-null     object\n",
            " 9   Despesas empenhadas                      27 non-null     object\n",
            " 10  Rendimento mensal domiciliar per capita  27 non-null     object\n",
            " 11  Total de veículos                        27 non-null     object\n",
            " 12  Estado                                   27 non-null     object\n",
            "dtypes: object(13)\n",
            "memory usage: 2.9+ KB\n"
          ]
        }
      ]
    },
    {
      "cell_type": "markdown",
      "source": [
        "# **Cleaning**"
      ],
      "metadata": {
        "id": "ugxIcXhm7pqb"
      }
    },
    {
      "cell_type": "code",
      "source": [
        "states_df = df.copy()\n",
        "states_df.columns = ['governor', 'capital', 'gentile', 'area', 'population', 'demographic_density', 'primary_school_enrollment', 'idh', 'realized_revenue', 'committed_expenses', 'income_per_capita', 'vehicle_total', 'code']\n",
        "states_df = states_df[['code', 'governor', 'population', 'area', 'idh', 'income_per_capita', 'vehicle_total', 'primary_school_enrollment', 'committed_expenses', 'realized_revenue']]\n",
        "\n",
        "\n",
        "states_df = states_df.replace({\n",
        "    '\\.': '',\n",
        "    ',': '.',\n",
        "    '\\[\\d+\\]': '',\n",
        "    ' hab/km²': '',\n",
        "    ' km²': '',\n",
        "    ' pessoas': '',\n",
        "    ' matrículas': '',\n",
        "    'R\\$.*': '',\n",
        "    ' veículos': ''\n",
        "}, regex=True)\n",
        "\n",
        "states_df.head()\n",
        "\n",
        "num_cols = ['population', 'area', 'idh', 'income_per_capita', 'vehicle_total', 'primary_school_enrollment', 'committed_expenses', 'realized_revenue']\n",
        "\n",
        "states_df[num_cols] = states_df[num_cols].apply(lambda x: x.str.strip())\n",
        "# states_df[num_cols] = states_df[num_cols].apply(pd.to_numeric)\n",
        "states_df.info()"
      ],
      "metadata": {
        "colab": {
          "base_uri": "https://localhost:8080/"
        },
        "id": "O9uUiw0Z72aM",
        "outputId": "3760e5b1-1655-4d46-dd94-b7ab0b58cf12"
      },
      "execution_count": 7,
      "outputs": [
        {
          "output_type": "stream",
          "name": "stdout",
          "text": [
            "<class 'pandas.core.frame.DataFrame'>\n",
            "RangeIndex: 27 entries, 0 to 26\n",
            "Data columns (total 10 columns):\n",
            " #   Column                     Non-Null Count  Dtype \n",
            "---  ------                     --------------  ----- \n",
            " 0   code                       27 non-null     object\n",
            " 1   governor                   27 non-null     object\n",
            " 2   population                 27 non-null     object\n",
            " 3   area                       27 non-null     object\n",
            " 4   idh                        27 non-null     object\n",
            " 5   income_per_capita          27 non-null     object\n",
            " 6   vehicle_total              27 non-null     object\n",
            " 7   primary_school_enrollment  27 non-null     object\n",
            " 8   committed_expenses         27 non-null     object\n",
            " 9   realized_revenue           27 non-null     object\n",
            "dtypes: object(10)\n",
            "memory usage: 2.2+ KB\n"
          ]
        }
      ]
    },
    {
      "cell_type": "markdown",
      "source": [
        "# **Export**"
      ],
      "metadata": {
        "id": "QMWx_cYD8_Ej"
      }
    },
    {
      "cell_type": "code",
      "source": [
        "states_df.to_csv('/content/drive/MyDrive/ibge_states.csv')"
      ],
      "metadata": {
        "id": "1odsNF317_NM"
      },
      "execution_count": 11,
      "outputs": []
    },
    {
      "cell_type": "code",
      "source": [
        ""
      ],
      "metadata": {
        "id": "SFpEHcBk9J8k"
      },
      "execution_count": null,
      "outputs": []
    }
  ]
}